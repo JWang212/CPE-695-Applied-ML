{
  "nbformat": 4,
  "nbformat_minor": 0,
  "metadata": {
    "colab": {
      "name": "Copy of 695_HW5.ipynb",
      "provenance": [],
      "collapsed_sections": []
    },
    "kernelspec": {
      "name": "python3",
      "display_name": "Python 3"
    }
  },
  "cells": [
    {
      "cell_type": "markdown",
      "metadata": {
        "id": "g9MY02e9rQ2g",
        "colab_type": "text"
      },
      "source": [
        "import statements"
      ]
    },
    {
      "cell_type": "code",
      "metadata": {
        "id": "HXhgfE7Dd6e4",
        "colab_type": "code",
        "colab": {}
      },
      "source": [
        "#Import Statements\n",
        "import matplotlib.pyplot as plt\n",
        "plt.style.use('seaborn-whitegrid')\n",
        "import numpy as np\n",
        "import random\n",
        "from heapq import nsmallest"
      ],
      "execution_count": 0,
      "outputs": []
    },
    {
      "cell_type": "markdown",
      "metadata": {
        "id": "q9_YADC0rVow",
        "colab_type": "text"
      },
      "source": [
        "plotting noisy data"
      ]
    },
    {
      "cell_type": "code",
      "metadata": {
        "id": "KdWOfL15AA4q",
        "colab_type": "code",
        "outputId": "a67e3e1c-500f-49df-ffb3-17446be37a0c",
        "colab": {
          "base_uri": "https://localhost:8080/",
          "height": 279
        }
      },
      "source": [
        "noise_scale = 100\n",
        "number_of_samples = 50\n",
        "x = 25*(np.random.rand(number_of_samples) - 0.8)\n",
        "y = 5*x+20*x**2+1*x**3 + noise_scale*np.random.randn(number_of_samples)\n",
        "plt.plot(x,y,'ro')"
      ],
      "execution_count": 5,
      "outputs": [
        {
          "output_type": "execute_result",
          "data": {
            "text/plain": [
              "[<matplotlib.lines.Line2D at 0x7fa9f38aa4e0>]"
            ]
          },
          "metadata": {
            "tags": []
          },
          "execution_count": 5
        },
        {
          "output_type": "display_data",
          "data": {
            "image/png": "[encoded data removed]",
            "text/plain": [
              "<Figure size 432x288 with 1 Axes>"
            ]
          },
          "metadata": {
            "tags": []
          }
        }
      ]
    },
    {
      "cell_type": "markdown",
      "metadata": {
        "id": "UhYa9QXxrY1l",
        "colab_type": "text"
      },
      "source": [
        "polynomial fitting using poly1d"
      ]
    },
    {
      "cell_type": "code",
      "metadata": {
        "id": "gl9ML__heLoU",
        "colab_type": "code",
        "outputId": "a41e8cf4-42f1-441b-c0f6-b3fe90794185",
        "colab": {
          "base_uri": "https://localhost:8080/",
          "height": 262
        }
      },
      "source": [
        "p = np.poly1d(np.polyfit(x,y,4))\n",
        "q = np.linspace(-20, 5 ,100)\n",
        "plt.plot(x, y, 'ro', label = 'Noisy Data')\n",
        "plt.plot(q,p(q),'-',label = 'Polynomial')\n",
        "plt.legend()\n",
        "plt.show()"
      ],
      "execution_count": 6,
      "outputs": [
        {
          "output_type": "display_data",
          "data": {
            "image/png": "[encoded data removed]",
            "text/plain": [
              "<Figure size 432x288 with 1 Axes>"
            ]
          },
          "metadata": {
            "tags": []
          }
        }
      ]
    },
    {
      "cell_type": "markdown",
      "metadata": {
        "id": "D3lkZr2urcSA",
        "colab_type": "text"
      },
      "source": [
        "mean square error of polynomial"
      ]
    },
    {
      "cell_type": "code",
      "metadata": {
        "id": "01zpb_G8B0to",
        "colab_type": "code",
        "outputId": "e058acaf-2fd5-4535-8a12-4f0b8c5a1141",
        "colab": {
          "base_uri": "https://localhost:8080/",
          "height": 34
        }
      },
      "source": [
        "mse = 0\n",
        "for i, d in enumerate(x):\n",
        "\n",
        "  mse = mse + (y[i] - p(d))**2/number_of_samples\n",
        "  \n",
        "mse"
      ],
      "execution_count": 7,
      "outputs": [
        {
          "output_type": "execute_result",
          "data": {
            "text/plain": [
              "12171.991291156055"
            ]
          },
          "metadata": {
            "tags": []
          },
          "execution_count": 7
        }
      ]
    },
    {
      "cell_type": "markdown",
      "metadata": {
        "id": "Fjp_fWACW6ly",
        "colab_type": "text"
      },
      "source": [
        "# Polynomial fitting using GA"
      ]
    },
    {
      "cell_type": "markdown",
      "metadata": {
        "id": "ihvC-0BHrrA_",
        "colab_type": "text"
      },
      "source": [
        "Create 100 six-element arrays of random numbers"
      ]
    },
    {
      "cell_type": "code",
      "metadata": {
        "id": "rlmC37fWf2xH",
        "colab_type": "code",
        "outputId": "aa0ebe16-8496-46ae-db8a-afa285dedb19",
        "colab": {
          "base_uri": "https://localhost:8080/",
          "height": 34
        }
      },
      "source": [
        "genes = []\n",
        "for i in range(100):\n",
        "\n",
        "    genes.append([random.uniform(-5,5) for _ in range(4)])\n",
        "    \n",
        "genes = np.asarray(genes)\n",
        "genes[99]"
      ],
      "execution_count": 8,
      "outputs": [
        {
          "output_type": "execute_result",
          "data": {
            "text/plain": [
              "array([ 2.205808  , -4.84113077, -2.13762672,  3.5581107 ])"
            ]
          },
          "metadata": {
            "tags": []
          },
          "execution_count": 8
        }
      ]
    },
    {
      "cell_type": "markdown",
      "metadata": {
        "id": "uuulm7jbrxfr",
        "colab_type": "text"
      },
      "source": [
        "Repeat 500 times (or any other number):\n",
        "\n",
        "For each of the 100 arrays, compute its badness (using all data points) \n",
        "\n",
        "Keep the ten best arrays (discard the other 90)\n",
        "\n",
        "From each array you keep, generate nine new arrays as follows:\n",
        "\n",
        "Pick a random element of the six\n",
        "Pick a random floating-point number between 0.0 and 2.0\n",
        "\n",
        "Multiply the random element of the array by the random floating-point number\n",
        "\n",
        "pick the best array as your final answer\n"
      ]
    },
    {
      "cell_type": "code",
      "metadata": {
        "id": "kIY7IEbQhDri",
        "colab_type": "code",
        "colab": {}
      },
      "source": [
        "y_new, badness, best = [0] * 100, [0] * 100, [0] * 100\n",
        "for _ in range (1000):\n",
        "\n",
        "  for i in range(100):\n",
        "\n",
        "    y_new[i]=np.poly1d(genes[i])\n",
        "    mse = 0\n",
        "\n",
        "    for j, d in enumerate(x):\n",
        "\n",
        "      mse += (y[j]-y_new[i](d))**2/number_of_samples\n",
        "      badness[i]=mse\n",
        "\n",
        "  badness = np.asarray(badness)\n",
        "  idx = np.argpartition(badness, 10)\n",
        "  \n",
        "  for i in range(0,10):\n",
        "\n",
        "    best[i*10]=genes[idx[i]]\n",
        "\n",
        "    for j in range(1,10):\n",
        "\n",
        "      best[i*10+j]=genes[idx[i]]\n",
        "      best[i*10+j][random.randint(0,3)]=best[i*10+j][random.randint(0,3)]*random.uniform(0,2)\n",
        "\n",
        "  best = np.asarray(best)\n",
        "  genes=best"
      ],
      "execution_count": 0,
      "outputs": []
    },
    {
      "cell_type": "markdown",
      "metadata": {
        "id": "DKAhn8_5sbVy",
        "colab_type": "text"
      },
      "source": [
        "mse of GA"
      ]
    },
    {
      "cell_type": "code",
      "metadata": {
        "id": "ahF4sfnBlxBE",
        "colab_type": "code",
        "outputId": "ec0c85e6-491f-4dad-f5ce-b39bc7d9bade",
        "colab": {
          "base_uri": "https://localhost:8080/",
          "height": 34
        }
      },
      "source": [
        "for i in range(100):\n",
        "\n",
        "  y_new[i]=np.poly1d(genes[i])\n",
        "  mse=0\n",
        "\n",
        "  for k, d in enumerate(x):\n",
        "\n",
        "    mse += (y[k]-y_new[i](d))**2/number_of_samples\n",
        "    badness[i]=mse\n",
        "\n",
        "\n",
        "idx = np.argpartition(badness, 10)\n",
        "y_new[idx[0]]\n",
        "badness[idx[0]]"
      ],
      "execution_count": 10,
      "outputs": [
        {
          "output_type": "execute_result",
          "data": {
            "text/plain": [
              "12694.206274387121"
            ]
          },
          "metadata": {
            "tags": []
          },
          "execution_count": 10
        }
      ]
    },
    {
      "cell_type": "markdown",
      "metadata": {
        "id": "rT7sAUdOsdtl",
        "colab_type": "text"
      },
      "source": [
        "plotting noisy data poly1d and GA"
      ]
    },
    {
      "cell_type": "code",
      "metadata": {
        "id": "h61kWD0Ho8Y7",
        "colab_type": "code",
        "outputId": "c980f222-69b4-4712-b7b5-fc00b7c22316",
        "colab": {
          "base_uri": "https://localhost:8080/",
          "height": 262
        }
      },
      "source": [
        "xn = np.linspace(-20, 5, 50)\n",
        "yn = p(xn)\n",
        "yn2=y_new[idx[0]](xn)\n",
        "plt.plot(x,y,'ro',label = 'Noisy Data')\n",
        "plt.plot(xn,yn, 'g',label = 'Polynomial')\n",
        "plt.plot(xn,yn2, 'b',label = 'GA Poly')\n",
        "plt.legend()\n",
        "plt.show()"
      ],
      "execution_count": 12,
      "outputs": [
        {
          "output_type": "display_data",
          "data": {
            "image/png": "[encoded data removed]",
            "text/plain": [
              "<Figure size 432x288 with 1 Axes>"
            ]
          },
          "metadata": {
            "tags": []
          }
        }
      ]
    }
  ]
}