{
 "cells": [
  {
   "cell_type": "markdown",
   "metadata": {},
   "source": [
    "*****************\n",
    "#### Import Statements"
   ]
  },
  {
   "cell_type": "code",
   "execution_count": 12,
   "metadata": {},
   "outputs": [],
   "source": [
    "import pandas as pd\n",
    "from sklearn.model_selection import train_test_split\n",
    "from sklearn.tree import DecisionTreeClassifier, export_graphviz\n",
    "from sklearn.metrics import classification_report, accuracy_score, confusion_matrix\n",
    "from IPython.display import Image  \n",
    "import pydotplus\n",
    "from sklearn.model_selection import GridSearchCV\n",
    "import warnings\n",
    "import numpy as np\n",
    "import matplotlib.pyplot as plt\n",
    "import warnings\n",
    "warnings.filterwarnings(\"ignore\")\n",
    "from sklearn.neural_network import MLPClassifier\n",
    "from sklearn.metrics import accuracy_score"
   ]
  },
  {
   "cell_type": "markdown",
   "metadata": {},
   "source": [
    "****\n",
    "#### Step 1: ####\n",
    "read in Titanic.csv and observe a few samples, some features are categorical and others are numerical. Take a random 70% samples for training and the rest 30% for test."
   ]
  },
  {
   "cell_type": "code",
   "execution_count": 13,
   "metadata": {},
   "outputs": [
    {
     "data": {
      "text/html": [
       "<div>\n",
       "<style scoped>\n",
       "    .dataframe tbody tr th:only-of-type {\n",
       "        vertical-align: middle;\n",
       "    }\n",
       "\n",
       "    .dataframe tbody tr th {\n",
       "        vertical-align: top;\n",
       "    }\n",
       "\n",
       "    .dataframe thead th {\n",
       "        text-align: right;\n",
       "    }\n",
       "</style>\n",
       "<table border=\"1\" class=\"dataframe\">\n",
       "  <thead>\n",
       "    <tr style=\"text-align: right;\">\n",
       "      <th></th>\n",
       "      <th>pclass</th>\n",
       "      <th>sex</th>\n",
       "      <th>age</th>\n",
       "      <th>sibsp</th>\n",
       "      <th>survived</th>\n",
       "    </tr>\n",
       "  </thead>\n",
       "  <tbody>\n",
       "    <tr>\n",
       "      <th>0</th>\n",
       "      <td>1</td>\n",
       "      <td>1</td>\n",
       "      <td>29.0000</td>\n",
       "      <td>0</td>\n",
       "      <td>1</td>\n",
       "    </tr>\n",
       "    <tr>\n",
       "      <th>1</th>\n",
       "      <td>1</td>\n",
       "      <td>0</td>\n",
       "      <td>0.9167</td>\n",
       "      <td>1</td>\n",
       "      <td>1</td>\n",
       "    </tr>\n",
       "    <tr>\n",
       "      <th>2</th>\n",
       "      <td>1</td>\n",
       "      <td>1</td>\n",
       "      <td>2.0000</td>\n",
       "      <td>1</td>\n",
       "      <td>0</td>\n",
       "    </tr>\n",
       "    <tr>\n",
       "      <th>3</th>\n",
       "      <td>1</td>\n",
       "      <td>0</td>\n",
       "      <td>30.0000</td>\n",
       "      <td>1</td>\n",
       "      <td>0</td>\n",
       "    </tr>\n",
       "    <tr>\n",
       "      <th>4</th>\n",
       "      <td>1</td>\n",
       "      <td>1</td>\n",
       "      <td>25.0000</td>\n",
       "      <td>1</td>\n",
       "      <td>0</td>\n",
       "    </tr>\n",
       "  </tbody>\n",
       "</table>\n",
       "</div>"
      ],
      "text/plain": [
       "   pclass  sex      age  sibsp  survived\n",
       "0       1    1  29.0000      0         1\n",
       "1       1    0   0.9167      1         1\n",
       "2       1    1   2.0000      1         0\n",
       "3       1    0  30.0000      1         0\n",
       "4       1    1  25.0000      1         0"
      ]
     },
     "execution_count": 13,
     "metadata": {},
     "output_type": "execute_result"
    }
   ],
   "source": [
    "#Standardizing values \n",
    "df = pd.read_csv('Titanic.csv')\n",
    "df = df[['pclass', 'sex', 'age','sibsp','survived']] \n",
    "df['pclass'] = df['pclass'].map({'1st':1,'2nd':2,'3rd':3})\n",
    "df['sex'] = df['sex'].map({'male':0,'female':1})\n",
    "df['age'].fillna((df['age'].mean()),inplace=True)\n",
    "df = df.dropna()\n",
    "df.head()"
   ]
  },
  {
   "cell_type": "code",
   "execution_count": 14,
   "metadata": {},
   "outputs": [],
   "source": [
    "#Data Split\n",
    "X = df.drop('survived',axis=1)\n",
    "y = df['survived']\n",
    "X_train, X_test, y_train, y_test = train_test_split(X, y, test_size=0.3)"
   ]
  },
  {
   "cell_type": "markdown",
   "metadata": {},
   "source": [
    "****\n",
    "#### Step 2: #### \n",
    "fit a neural network using independent variables ‘pclass + sex + age + sibsp’ and dependent variable ‘survived’. Omit all NA examples. Use 2 hidden layers and set the activation functions for both the hidden and output layer to be the sigmoid function. Set “solver” parameter as either SGD (stochastic gradient descend) or Adam (similar to SGD but optimized performance with mini batches). You can adjust parameter “alpha” for regularization (to control overfitting) and other parameters such as “learning rate” and “momentum” as needed."
   ]
  },
  {
   "cell_type": "code",
   "execution_count": 15,
   "metadata": {},
   "outputs": [
    {
     "data": {
      "text/plain": [
       "0.7913486005089059"
      ]
     },
     "execution_count": 15,
     "metadata": {},
     "output_type": "execute_result"
    }
   ],
   "source": [
    "#STEP 2 NN with 2 Layers\n",
    "classifier = MLPClassifier(solver='adam',hidden_layer_sizes=(2,),activation='logistic',learning_rate='constant',\n",
    "                           learning_rate_init=0.1,alpha=0.00000001, momentum=0.4)\n",
    "classifier = classifier.fit(X_train, y_train)\n",
    "y_pred = classifier.predict(X_test)\n",
    "accuracy_score(y_test, y_pred)"
   ]
  },
  {
   "cell_type": "markdown",
   "metadata": {},
   "source": [
    "***\n",
    "#### Step3: #####\n",
    "check the performance of the model: in-sample and out-of- sample accuracy, defined as\n",
    "in-sample percent survivors correctly predicted (on training set) in-sample percent fatalities correctly predicted (on training set) out-of-sample percent survivors correctly predicted (on test set) out-of-sample percent fatalities correctly predicted (on test set)"
   ]
  },
  {
   "cell_type": "code",
   "execution_count": 16,
   "metadata": {},
   "outputs": [
    {
     "name": "stdout",
     "output_type": "stream",
     "text": [
      "in‐sample percent survivors correctly predicted (on training set) : 69.68%\n",
      "\n",
      "in‐sample percent fatalities correctly predicted (on training set) : 89.01%\n",
      "\n",
      "out‐of‐sample percent survivors correctly predicted (on testing set) : 64.33%\n",
      "\n",
      "out-of‐sample percent fatalities correctly predicted (on testing set) : 88.98%\n",
      "\n"
     ]
    }
   ],
   "source": [
    "y_pred_new = classifier.predict(X_train)\n",
    "\n",
    "#For training set\n",
    "conf_matrix = confusion_matrix(y_train, y_pred_new)\n",
    "TN = conf_matrix[0][0]\n",
    "FN = conf_matrix[1][0]\n",
    "TP = conf_matrix[1][1]\n",
    "FP = conf_matrix[0][1]\n",
    "sensitivity_train = TP/(TP+FN)\n",
    "specificity_train = TN/(FP+TN)\n",
    "\n",
    "#for testing set\n",
    "conf_matrix = confusion_matrix(y_test, y_pred)\n",
    "TN = conf_matrix[0][0]\n",
    "FN = conf_matrix[1][0]\n",
    "TP = conf_matrix[1][1]\n",
    "FP = conf_matrix[0][1]\n",
    "sensitivity_test = TP/(TP+FN)\n",
    "specificity_test = TN/(FP+TN)\n",
    "\n",
    "print(\"in‐sample percent survivors correctly predicted (on training set) : {0:.2f}%\\n\".format(sensitivity_train*100))\n",
    "print(\"in‐sample percent fatalities correctly predicted (on training set) : {0:.2f}%\\n\".format(specificity_train*100))\n",
    "print(\"out‐of‐sample percent survivors correctly predicted (on testing set) : {0:.2f}%\\n\".format(sensitivity_test*100))\n",
    "print(\"out-of‐sample percent fatalities correctly predicted (on testing set) : {0:.2f}%\\n\".format(specificity_test*100))"
   ]
  },
  {
   "cell_type": "markdown",
   "metadata": {},
   "source": [
    "***\n",
    "#### Please try two different network structures (i.e., number of neurons at each hidden layer) and show their respective accuracy."
   ]
  },
  {
   "cell_type": "code",
   "execution_count": 17,
   "metadata": {},
   "outputs": [
    {
     "data": {
      "text/plain": [
       "0.7913486005089059"
      ]
     },
     "execution_count": 17,
     "metadata": {},
     "output_type": "execute_result"
    }
   ],
   "source": [
    "#WITH 100 HIDDEN LAYERS\n",
    "classifier = MLPClassifier(solver='adam',hidden_layer_sizes=(100,),activation='logistic',learning_rate='constant',\n",
    "                           learning_rate_init=0.1,alpha=0.00000001, momentum=0.4)\n",
    "classifier = classifier.fit(X_train, y_train)\n",
    "\n",
    "y_pred = classifier.predict(X_test)\n",
    "\n",
    "accuracy_score(y_test, y_pred)"
   ]
  },
  {
   "cell_type": "code",
   "execution_count": 18,
   "metadata": {},
   "outputs": [
    {
     "name": "stdout",
     "output_type": "stream",
     "text": [
      "in‐sample percent survivors correctly predicted (on training set) : 68.80%\n",
      "\n",
      "in‐sample percent fatalities correctly predicted (on training set) : 89.88%\n",
      "\n",
      "out‐of‐sample percent survivors correctly predicted (on testing set) : 64.33%\n",
      "\n",
      "out-of‐sample percent fatalities correctly predicted (on testing set) : 88.98%\n",
      "\n"
     ]
    }
   ],
   "source": [
    "y_pred_new = classifier.predict(X_train)\n",
    "\n",
    "#For training set\n",
    "conf_matrix = confusion_matrix(y_train, y_pred_new)\n",
    "TN = conf_matrix[0][0]\n",
    "FN = conf_matrix[1][0]\n",
    "TP = conf_matrix[1][1]\n",
    "FP = conf_matrix[0][1]\n",
    "sensitivity_train = TP/(TP+FN)\n",
    "specificity_train = TN/(FP+TN)\n",
    "\n",
    "#for testing set\n",
    "conf_matrix = confusion_matrix(y_test, y_pred)\n",
    "TN = conf_matrix[0][0]\n",
    "FN = conf_matrix[1][0]\n",
    "TP = conf_matrix[1][1]\n",
    "FP = conf_matrix[0][1]\n",
    "sensitivity_test = TP/(TP+FN)\n",
    "specificity_test = TN/(FP+TN)\n",
    "\n",
    "print(\"in‐sample percent survivors correctly predicted (on training set) : {0:.2f}%\\n\".format(sensitivity_train*100))\n",
    "print(\"in‐sample percent fatalities correctly predicted (on training set) : {0:.2f}%\\n\".format(specificity_train*100))\n",
    "print(\"out‐of‐sample percent survivors correctly predicted (on testing set) : {0:.2f}%\\n\".format(sensitivity_test*100))\n",
    "print(\"out-of‐sample percent fatalities correctly predicted (on testing set) : {0:.2f}%\\n\".format(specificity_test*100))"
   ]
  },
  {
   "cell_type": "markdown",
   "metadata": {},
   "source": [
    "***\n",
    "#### Step 4: ####\n",
    "compare the in-sample and out-of-sample accuracy (as defined in step 3) with the pruned decision tree obtained in homework 3. (You can either use a table or a figure to compare the accuracy of the two learning algorithms)"
   ]
  },
  {
   "cell_type": "code",
   "execution_count": 22,
   "metadata": {},
   "outputs": [
    {
     "data": {
      "text/html": [
       "<div>\n",
       "<style scoped>\n",
       "    .dataframe tbody tr th:only-of-type {\n",
       "        vertical-align: middle;\n",
       "    }\n",
       "\n",
       "    .dataframe tbody tr th {\n",
       "        vertical-align: top;\n",
       "    }\n",
       "\n",
       "    .dataframe thead th {\n",
       "        text-align: right;\n",
       "    }\n",
       "</style>\n",
       "<table border=\"1\" class=\"dataframe\">\n",
       "  <thead>\n",
       "    <tr style=\"text-align: right;\">\n",
       "      <th></th>\n",
       "      <th>Parameter</th>\n",
       "      <th>Pruned DT</th>\n",
       "      <th>2 HL NN</th>\n",
       "      <th>100 HL NN</th>\n",
       "    </tr>\n",
       "  </thead>\n",
       "  <tbody>\n",
       "    <tr>\n",
       "      <th>0</th>\n",
       "      <td>in‐sample percent survivors correctly predicted (on training set)</td>\n",
       "      <td>71.91%</td>\n",
       "      <td>69.68%</td>\n",
       "      <td>68.80%</td>\n",
       "    </tr>\n",
       "    <tr>\n",
       "      <th>1</th>\n",
       "      <td>in‐sample percent fatalities correctly predicted (on training set)</td>\n",
       "      <td>85.00%</td>\n",
       "      <td>89.01%</td>\n",
       "      <td>89.88%</td>\n",
       "    </tr>\n",
       "    <tr>\n",
       "      <th>2</th>\n",
       "      <td>out‐of‐sample percent survivors correctly predicted (on testing set)</td>\n",
       "      <td>74.31%</td>\n",
       "      <td>64.33%</td>\n",
       "      <td>64.33%</td>\n",
       "    </tr>\n",
       "    <tr>\n",
       "      <th>3</th>\n",
       "      <td>out-of‐sample percent fatalities correctly predicted (on testing set)</td>\n",
       "      <td>87.55%</td>\n",
       "      <td>88.98%</td>\n",
       "      <td>88.98%</td>\n",
       "    </tr>\n",
       "  </tbody>\n",
       "</table>\n",
       "</div>"
      ],
      "text/plain": [
       "                                                               Parameter  \\\n",
       "0  in‐sample percent survivors correctly predicted (on training set)       \n",
       "1  in‐sample percent fatalities correctly predicted (on training set)      \n",
       "2  out‐of‐sample percent survivors correctly predicted (on testing set)    \n",
       "3  out-of‐sample percent fatalities correctly predicted (on testing set)   \n",
       "\n",
       "  Pruned DT 2 HL NN 100 HL NN  \n",
       "0  71.91%    69.68%  68.80%    \n",
       "1  85.00%    89.01%  89.88%    \n",
       "2  74.31%    64.33%  64.33%    \n",
       "3  87.55%    88.98%  88.98%    "
      ]
     },
     "execution_count": 22,
     "metadata": {},
     "output_type": "execute_result"
    }
   ],
   "source": [
    "df = pd.DataFrame(columns=['Parameter', 'Pruned DT', '2 HL NN','100 HL NN'])\n",
    "df = df.append({'Parameter': 'in‐sample percent survivors correctly predicted (on training set)', 'Pruned DT': '71.91%', '2 HL NN': '69.68%','100 HL NN':'68.80%'}, ignore_index=True)\n",
    "df = df.append({'Parameter': 'in‐sample percent fatalities correctly predicted (on training set)', 'Pruned DT': '85.00%', '2 HL NN': '89.01%','100 HL NN':'89.88%'}, ignore_index=True)\n",
    "df = df.append({'Parameter': 'out‐of‐sample percent survivors correctly predicted (on testing set)', 'Pruned DT': '74.31%', '2 HL NN': '64.33%','100 HL NN':'64.33%'}, ignore_index=True)\n",
    "df = df.append({'Parameter': 'out-of‐sample percent fatalities correctly predicted (on testing set)', 'Pruned DT': '87.55%', '2 HL NN': '88.98%','100 HL NN':'88.98%'}, ignore_index=True)\n",
    "pd.set_option('display.max_colwidth', -1)\n",
    "df"
   ]
  },
  {
   "cell_type": "markdown",
   "metadata": {},
   "source": [
    "#### end"
   ]
  },
  {
   "cell_type": "code",
   "execution_count": null,
   "metadata": {},
   "outputs": [],
   "source": []
  }
 ],
 "metadata": {
  "kernelspec": {
   "display_name": "Python 3",
   "language": "python",
   "name": "python3"
  },
  "language_info": {
   "codemirror_mode": {
    "name": "ipython",
    "version": 3
   },
   "file_extension": ".py",
   "mimetype": "text/x-python",
   "name": "python",
   "nbconvert_exporter": "python",
   "pygments_lexer": "ipython3",
   "version": "3.7.7"
  }
 },
 "nbformat": 4,
 "nbformat_minor": 4
}
